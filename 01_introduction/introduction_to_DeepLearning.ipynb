{
  "cells": [
    {
      "cell_type": "markdown",
      "metadata": {
        "id": "dLa1EZq42zf0"
      },
      "source": [
        "# Image Classification with the MNIST Dataset"
      ]
    },
    {
      "cell_type": "markdown",
      "metadata": {
        "id": "B-nDnmoC2zf1"
      },
      "source": [
        "In this section we will do the \"Hello World\" of deep learning: training a deep learning model to correctly classify hand-written digits."
      ]
    },
    {
      "cell_type": "markdown",
      "metadata": {
        "id": "ZWd9Mjxm2zf1"
      },
      "source": [
        "Objectives of this excercise :"
      ]
    },
    {
      "cell_type": "markdown",
      "metadata": {
        "id": "qmkmljVQ2zf1"
      },
      "source": [
        "---\n",
        "* Explore how deep learning addresses challenges that are difficult to solve with traditional programming techniques.\n",
        "* Get acquainted with the MNIST dataset of handwritten digits.\n",
        "* Utilize torchvision to load and preprocess the MNIST dataset for model training.\n",
        "* Design a straightforward neural network for image classification tasks.\n",
        "* Train the neural network using the prepared MNIST dataset.\n",
        "* Evaluate how the trained neural network performs on the classification task.\n",
        "\n",
        "---"
      ]
    },
    {
      "cell_type": "markdown",
      "metadata": {
        "id": "D8eO9vccP9Cn"
      },
      "source": [
        "Here's a clear and beginner-friendly explanation to introduce loading the libraries :"
      ]
    },
    {
      "cell_type": "code",
      "execution_count": 49,
      "metadata": {
        "id": "siboVxRJ5pes"
      },
      "outputs": [],
      "source": [
        "# Core PyTorch library for tensor operations and GPU acceleration\n",
        "import torch\n",
        "\n",
        "# PyTorch module for building neural networks\n",
        "import torch.nn as nn\n",
        "\n",
        "# Dataset and DataLoader for managing and batching datasets\n",
        "from torch.utils.data import Dataset, DataLoader\n",
        "\n",
        "# Adam optimizer for updating model weights\n",
        "from torch.optim import Adam\n",
        "\n",
        "# Torchvision library for prebuilt datasets and vision utilities\n",
        "import torchvision\n",
        "torchvision.disable_beta_transforms_warning()\n",
        "\n",
        "# Transforms for preprocessing and augmenting image datasets\n",
        "import torchvision.transforms.v2 as transforms\n",
        "\n",
        "# Functional API for low-level image transformations\n",
        "import torchvision.transforms.functional as F\n",
        "\n",
        "# Matplotlib for visualizing images and plotting results\n",
        "import matplotlib.pyplot as plt\n",
        "\n",
        "#time\n",
        "import time"
      ]
    },
    {
      "cell_type": "markdown",
      "metadata": {
        "id": "FQJHCNcy5_Mk"
      },
      "source": [
        "In PyTorch, we can use our GPU in our operations by setting the [device](https://pytorch.org/docs/stable/tensor_attributes.html#torch.device) to `cuda`. The function `torch.cuda.is_available()` will confirm PyTorch can recognize the GPU."
      ]
    },
    {
      "cell_type": "code",
      "execution_count": 50,
      "metadata": {
        "colab": {
          "base_uri": "https://localhost:8080/"
        },
        "id": "AgBjq0uu6CYm",
        "outputId": "1949a7cb-74d0-43a5-e97d-8cd485ee0e98"
      },
      "outputs": [
        {
          "output_type": "stream",
          "name": "stdout",
          "text": [
            "cuda\n"
          ]
        }
      ],
      "source": [
        "# Check and set device\n",
        "device = torch.device(\"cuda\" if torch.cuda.is_available() else \"cpu\")\n",
        "print(device)"
      ]
    },
    {
      "cell_type": "markdown",
      "metadata": {
        "id": "ygLT32E-2zf1"
      },
      "source": [
        "---\n",
        "\n",
        "In traditional programming, developers explicitly define rules and conditions for a program to follow, allowing it to perform tasks accurately. This method works effectively for solving a wide range of problems.\n",
        "\n",
        "However, tasks like image classification—which involves assigning an unseen image to its appropriate category—pose significant challenges for traditional programming. It is impractical for a programmer to manually define rules that can account for the vast diversity of images and scenarios, especially for cases they have never encountered before.\n",
        "\n",
        "---"
      ]
    },
    {
      "cell_type": "markdown",
      "metadata": {
        "id": "ch148qeW2zf2"
      },
      "source": [
        "### Solution to problem is Deep Learning"
      ]
    },
    {
      "cell_type": "markdown",
      "metadata": {
        "id": "cdR-fe3Y2zf2"
      },
      "source": [
        "Deep learning excels at pattern recognition by trial and error. By training a deep neural network with sufficient data, and providing the network with feedback on its performance via training, the network can identify, though a huge amount of iteration, its own set of conditions by which it can act in the correct way."
      ]
    },
    {
      "cell_type": "markdown",
      "metadata": {
        "id": "g8e6Tasm2zf2"
      },
      "source": [
        "## Data: The MNIST Dataset"
      ]
    },
    {
      "cell_type": "markdown",
      "metadata": {
        "id": "HUopNy9V2zf2"
      },
      "source": [
        "---\n",
        "\n",
        "In the evolution of deep learning, achieving accurate image classification on the [MNIST dataset](http://yann.lecun.com/exdb/mnist/) marked a significant milestone. This dataset, consisting of 70,000 grayscale images of handwritten digits (0 through 9), played a pivotal role in demonstrating the potential of neural networks. Although this task is now considered straightforward, working with MNIST has become the deep learning equivalent of a \"Hello World\" program, serving as an introductory benchmark for beginners.\n",
        "\n",
        "---"
      ]
    },
    {
      "cell_type": "markdown",
      "metadata": {
        "id": "4ksf2B052zf2"
      },
      "source": [
        "### Training and Validation Data and Labels"
      ]
    },
    {
      "cell_type": "markdown",
      "metadata": {
        "id": "8d-FSGUU2zf2"
      },
      "source": [
        "---\n",
        "\n",
        "When working with images in deep learning, we require both the image data, typically represented as `X`, and their corresponding [labels](https://developers.google.com/machine-learning/glossary#label), represented as `Y`. These pairs of `X` and `Y` values are essential for both *training* the model and *validating* its performance after training.\n",
        "\n",
        "A helpful analogy is to think of `X` and `Y` pairs as flashcards. A student uses one set of flashcards to study and learns from them. To check their understanding, a teacher might test them using a different set of flashcards. Similarly, in deep learning, we divide the data into distinct sets for training and validation.\n",
        "\n",
        "For the MNIST dataset, the data is divided into four segments:\n",
        "1. **`x_train`**: Images used for training the neural network.\n",
        "2. **`y_train`**: Correct labels corresponding to the `x_train` images, used to measure the model’s accuracy during training.\n",
        "3. **`x_valid`**: A separate set of images reserved for validating the model’s performance after training.\n",
        "4. **`y_valid`**: Correct labels for the `x_valid` images, used to evaluate the model’s predictions on the validation set.\n",
        "\n",
        "The process of organizing and preparing data for analysis is often referred to as [Data Engineering](https://medium.com/@rchang/a-beginners-guide-to-data-engineering-part-i-4227c5c457d7). For a more detailed explanation of the differences between training, validation, and test data, you can refer to [this resource](https://machinelearningmastery.com/difference-test-validation-datasets/) by Jason Brownlee.\n",
        "\n",
        "---"
      ]
    },
    {
      "cell_type": "markdown",
      "metadata": {
        "id": "exXV58Gn2zf2"
      },
      "source": [
        "### Loading the Data Into Memory"
      ]
    },
    {
      "cell_type": "markdown",
      "metadata": {
        "id": "Rp-63AGt2zf2"
      },
      "source": [
        "\n",
        "\n",
        "---\n",
        "\n",
        "There are various [deep learning frameworks](https://developer.nvidia.com/deep-learning-frameworks) available, each offering unique features and benefits. In this tutorial, we will be using [PyTorch 2](https://pytorch.org/get-started/pytorch-2.0/), with a focus on the [Sequential API](https://pytorch.org/docs/stable/generated/torch.nn.Sequential.html). The Sequential API simplifies the process of building neural networks by providing a collection of built-in functions. It is also a popular choice in professional deep learning workflows due to its [clarity](https://blog.pragmaticengineer.com/readable-code/) and performance. While PyTorch is widely used, exploring other frameworks can be valuable when starting a deep learning project.\n",
        "\n",
        "Additionally, we will leverage the [TorchVision](https://pytorch.org/vision/stable/index.html) library, which offers tools to streamline deep learning projects. Among its features are modules that provide convenient access to [common datasets](https://pytorch.org/vision/main/datasets.html), such as MNIST.\n",
        "\n",
        "To begin, we will load the `train` and `valid` datasets for [MNIST](https://pytorch.org/vision/main/generated/torchvision.datasets.MNIST.html#torchvision.datasets.MNIST).\n",
        "\n",
        "---\n"
      ]
    },
    {
      "cell_type": "code",
      "execution_count": 51,
      "metadata": {
        "id": "If_AfbCG2zf3"
      },
      "outputs": [],
      "source": [
        "train_set = torchvision.datasets.MNIST(\"/data\", train=True, download=True)\n",
        "valid_set = torchvision.datasets.MNIST(\"/data\", train=False, download=True)\n"
      ]
    },
    {
      "cell_type": "markdown",
      "metadata": {
        "id": "BmhlCnyjP9Cq"
      },
      "source": [
        "We stated above that the MNIST dataset contained 70,000 grayscale images of handwritten digits. By executing the following cells, we can see that Keras has partitioned 60,000 of these [PIL Images](https://pillow.readthedocs.io/en/stable/reference/Image.html) for training, and 10,000 for validation (after training)."
      ]
    },
    {
      "cell_type": "code",
      "execution_count": 52,
      "metadata": {
        "colab": {
          "base_uri": "https://localhost:8080/"
        },
        "id": "tv9vHMDZNNs3",
        "outputId": "057eb44c-6d38-4e21-a612-32a43687c95f"
      },
      "outputs": [
        {
          "output_type": "execute_result",
          "data": {
            "text/plain": [
              "Dataset MNIST\n",
              "    Number of datapoints: 60000\n",
              "    Root location: /data\n",
              "    Split: Train"
            ]
          },
          "metadata": {},
          "execution_count": 52
        }
      ],
      "source": [
        "train_set"
      ]
    },
    {
      "cell_type": "code",
      "execution_count": 53,
      "metadata": {
        "colab": {
          "base_uri": "https://localhost:8080/"
        },
        "id": "vEKzOpJpNPIS",
        "outputId": "816a6fbe-06a5-4ecb-bcf8-a0e37969214c"
      },
      "outputs": [
        {
          "output_type": "execute_result",
          "data": {
            "text/plain": [
              "Dataset MNIST\n",
              "    Number of datapoints: 10000\n",
              "    Root location: /data\n",
              "    Split: Test"
            ]
          },
          "metadata": {},
          "execution_count": 53
        }
      ],
      "source": [
        "valid_set"
      ]
    },
    {
      "cell_type": "markdown",
      "metadata": {
        "id": "cjK_PDwzP9Cq"
      },
      "source": [
        "Let's take the first x, y pair from `train_set` and review the data structures:"
      ]
    },
    {
      "cell_type": "code",
      "execution_count": 54,
      "metadata": {
        "id": "MKpiSUy8P9Cq"
      },
      "outputs": [],
      "source": [
        "x_10, y_10 = train_set[10]"
      ]
    },
    {
      "cell_type": "code",
      "execution_count": 55,
      "metadata": {
        "colab": {
          "base_uri": "https://localhost:8080/",
          "height": 45
        },
        "id": "cEMiBJmVP9Cq",
        "outputId": "6affdb8c-d130-4f4c-9a14-040ef41ee357"
      },
      "outputs": [
        {
          "output_type": "execute_result",
          "data": {
            "text/plain": [
              "<PIL.Image.Image image mode=L size=28x28>"
            ],
            "image/png": "[encoded data removed]",
            "image/jpeg": "[encoded data removed]"
          },
          "metadata": {},
          "execution_count": 55
        }
      ],
      "source": [
        "x_10"
      ]
    },
    {
      "cell_type": "code",
      "execution_count": 56,
      "metadata": {
        "colab": {
          "base_uri": "https://localhost:8080/"
        },
        "id": "ejmsdAS4P9Cq",
        "outputId": "7f06f973-732f-4a4d-85c4-6e4b8f1d7bfd"
      },
      "outputs": [
        {
          "output_type": "execute_result",
          "data": {
            "text/plain": [
              "3"
            ]
          },
          "metadata": {},
          "execution_count": 56
        }
      ],
      "source": [
        "y_10"
      ]
    },
    {
      "cell_type": "markdown",
      "metadata": {
        "id": "34dQ8RKFNf4z"
      },
      "source": [
        "*Note*: The `Split` for `valid_set` is stated as `Test`, but we will be using the data for validation in our hands-on exercises."
      ]
    },
    {
      "cell_type": "markdown",
      "metadata": {
        "id": "826TKJQaOOVs"
      },
      "source": [
        "### Prepare image for training"
      ]
    },
    {
      "cell_type": "markdown",
      "metadata": {
        "id": "DZ_zoaub2zf4"
      },
      "source": [
        "\n",
        "\n",
        "---\n",
        "\n",
        "In data science, a vector is considered a 1-dimensional array, while a matrix is a 2-dimensional array. Extending this concept, a tensor is an n-dimensional array that can represent data with any number of dimensions. Modern neural network frameworks like PyTorch are designed to process tensors efficiently.\n",
        "\n",
        "A good example of a 3-dimensional tensor is an image, where the dimensions can correspond to width, height, and color channels (such as RGB). This idea of tensor operations is similar to how video games calculate pixel values using matrix mathematics, which is why GPUs (Graphics Processing Units) are highly effective at processing tensors.\n",
        "\n",
        "To prepare images for neural network training, they need to be converted into tensors. TorchVision offers a simple method for this conversion using the `ToTensor` class. This class can convert [PIL Images](https://pillow.readthedocs.io/en/stable/reference/Image.html) or NumPy arrays into PyTorch tensors, automatically scaling pixel values to the range [0, 1].\n",
        "\n",
        "---\n",
        "\n"
      ]
    },
    {
      "cell_type": "code",
      "execution_count": 57,
      "metadata": {
        "id": "uWnZxkiqUDp6",
        "colab": {
          "base_uri": "https://localhost:8080/"
        },
        "outputId": "09e0d4bc-fe11-420b-9ec9-aeb795d4c4ce"
      },
      "outputs": [
        {
          "output_type": "stream",
          "name": "stderr",
          "text": [
            "/usr/local/lib/python3.11/dist-packages/torchvision/transforms/v2/_deprecated.py:42: UserWarning: The transform `ToTensor()` is deprecated and will be removed in a future release. Instead, please use `v2.Compose([v2.ToImage(), v2.ToDtype(torch.float32, scale=True)])`.Output is equivalent up to float precision.\n",
            "  warnings.warn(\n"
          ]
        }
      ],
      "source": [
        "transform = transforms.Compose([\n",
        "    transforms.ToTensor()  # Convert image to tensor and normalize to [0, 1]\n",
        "])\n",
        "\n",
        "# Apply the transformation\n",
        "x_10_tensor = transform(x_10)"
      ]
    },
    {
      "cell_type": "code",
      "execution_count": 58,
      "metadata": {
        "colab": {
          "base_uri": "https://localhost:8080/"
        },
        "id": "F-jyN9_N2zf4",
        "outputId": "5e702347-6bdc-4a45-a340-2ef7f0ec1c75"
      },
      "outputs": [
        {
          "output_type": "stream",
          "name": "stdout",
          "text": [
            "torch.float32\n"
          ]
        }
      ],
      "source": [
        "print(x_10_tensor.dtype) #verify the datatype"
      ]
    },
    {
      "cell_type": "markdown",
      "metadata": {
        "id": "yIDUGa4LYzYb"
      },
      "source": [
        "We can verify the minimum and maximum values. PIL Images have a potential integer range of [0, 255], but the [ToTensor](https://pytorch.org/vision/main/generated/torchvision.transforms.ToTensor.html) class converts it to a float range of [0.0, 1.0]."
      ]
    },
    {
      "cell_type": "code",
      "execution_count": 59,
      "metadata": {
        "colab": {
          "base_uri": "https://localhost:8080/"
        },
        "id": "XTTjlZVS2zf4",
        "outputId": "a34a14b8-5081-48e1-a9bd-4e6f434ef557"
      },
      "outputs": [
        {
          "output_type": "stream",
          "name": "stdout",
          "text": [
            "tensor(0.)\n"
          ]
        }
      ],
      "source": [
        "print(x_10_tensor.min())"
      ]
    },
    {
      "cell_type": "code",
      "execution_count": 60,
      "metadata": {
        "colab": {
          "base_uri": "https://localhost:8080/"
        },
        "id": "H_denh2i2zf4",
        "outputId": "091e0e07-4c9f-4415-8ac4-97c032d88d86"
      },
      "outputs": [
        {
          "output_type": "stream",
          "name": "stdout",
          "text": [
            "tensor(0.9961)\n"
          ]
        }
      ],
      "source": [
        "print(x_10_tensor.max())"
      ]
    },
    {
      "cell_type": "markdown",
      "metadata": {
        "id": "9A9EL-34ZpSS"
      },
      "source": [
        "\n",
        "\n",
        "---\n",
        "\n",
        "In PyTorch, the dimensions of an image tensor follow the `C x H x W` format:\n",
        "- `C`: Number of color channels.\n",
        "- `H`: Height of the image.\n",
        "- `W`: Width of the image.\n",
        "\n",
        "For grayscale images like MNIST, there is a single color channel (`C=1`). Each image is square-shaped, with a height (`H`) and width (`W`) of 28 pixels.\n",
        "\n",
        "---"
      ]
    },
    {
      "cell_type": "code",
      "execution_count": 61,
      "metadata": {
        "colab": {
          "base_uri": "https://localhost:8080/"
        },
        "id": "cIxHEBDRZk-K",
        "outputId": "3542c422-4236-4b0f-8797-62c108bb678d"
      },
      "outputs": [
        {
          "output_type": "execute_result",
          "data": {
            "text/plain": [
              "torch.Size([1, 28, 28])"
            ]
          },
          "metadata": {},
          "execution_count": 61
        }
      ],
      "source": [
        "x_10_tensor.size()"
      ]
    },
    {
      "cell_type": "code",
      "execution_count": 62,
      "metadata": {
        "colab": {
          "base_uri": "https://localhost:8080/"
        },
        "id": "CLU8kY332zf4",
        "outputId": "d34e98b3-a5e9-46bc-f74f-da72b15364a0"
      },
      "outputs": [
        {
          "output_type": "execute_result",
          "data": {
            "text/plain": [
              "tensor([[[0.0000, 0.0000, 0.0000, 0.0000, 0.0000, 0.0000, 0.0000, 0.0000,\n",
              "          0.0000, 0.0000, 0.0000, 0.0000, 0.0000, 0.0000, 0.0000, 0.0000,\n",
              "          0.0000, 0.0000, 0.0000, 0.0000, 0.0000, 0.0000, 0.0000, 0.0000,\n",
              "          0.0000, 0.0000, 0.0000, 0.0000],\n",
              "         [0.0000, 0.0000, 0.0000, 0.0000, 0.0000, 0.0000, 0.0000, 0.0000,\n",
              "          0.0000, 0.0000, 0.0000, 0.0000, 0.0000, 0.0000, 0.0000, 0.0000,\n",
              "          0.0000, 0.0000, 0.0000, 0.0000, 0.0000, 0.0000, 0.0000, 0.0000,\n",
              "          0.0000, 0.0000, 0.0000, 0.0000],\n",
              "         [0.0000, 0.0000, 0.0000, 0.0000, 0.0000, 0.0000, 0.0000, 0.0000,\n",
              "          0.0000, 0.0000, 0.0000, 0.0000, 0.0000, 0.0000, 0.0000, 0.0000,\n",
              "          0.0000, 0.0000, 0.0000, 0.0000, 0.0000, 0.0000, 0.0000, 0.0000,\n",
              "          0.0000, 0.0000, 0.0000, 0.0000],\n",
              "         [0.0000, 0.0000, 0.0000, 0.0000, 0.0000, 0.0000, 0.0000, 0.0000,\n",
              "          0.0000, 0.0000, 0.0000, 0.0000, 0.0000, 0.0000, 0.0000, 0.0000,\n",
              "          0.0000, 0.0000, 0.0000, 0.0000, 0.0000, 0.0000, 0.0000, 0.0000,\n",
              "          0.0000, 0.0000, 0.0000, 0.0000],\n",
              "         [0.0000, 0.0000, 0.0000, 0.0000, 0.0000, 0.0000, 0.0000, 0.0000,\n",
              "          0.0000, 0.0000, 0.0000, 0.1647, 0.4627, 0.8588, 0.6510, 0.4627,\n",
              "          0.4627, 0.0235, 0.0000, 0.0000, 0.0000, 0.0000, 0.0000, 0.0000,\n",
              "          0.0000, 0.0000, 0.0000, 0.0000],\n",
              "         [0.0000, 0.0000, 0.0000, 0.0000, 0.0000, 0.0000, 0.0000, 0.0000,\n",
              "          0.0000, 0.0000, 0.4039, 0.9490, 0.9961, 0.9961, 0.9961, 0.9961,\n",
              "          0.9961, 0.2588, 0.0000, 0.0000, 0.0000, 0.0000, 0.0000, 0.0000,\n",
              "          0.0000, 0.0000, 0.0000, 0.0000],\n",
              "         [0.0000, 0.0000, 0.0000, 0.0000, 0.0000, 0.0000, 0.0000, 0.0000,\n",
              "          0.0000, 0.0000, 0.0706, 0.9098, 0.9961, 0.9961, 0.9961, 0.9961,\n",
              "          0.9961, 0.9333, 0.2745, 0.0000, 0.0000, 0.0000, 0.0000, 0.0000,\n",
              "          0.0000, 0.0000, 0.0000, 0.0000],\n",
              "         [0.0000, 0.0000, 0.0000, 0.0000, 0.0000, 0.0000, 0.0000, 0.0000,\n",
              "          0.0000, 0.0000, 0.0000, 0.4078, 0.9569, 0.9961, 0.8784, 0.9961,\n",
              "          0.9961, 0.9961, 0.5529, 0.0000, 0.0000, 0.0000, 0.0000, 0.0000,\n",
              "          0.0000, 0.0000, 0.0000, 0.0000],\n",
              "         [0.0000, 0.0000, 0.0000, 0.0000, 0.0000, 0.0000, 0.0000, 0.0000,\n",
              "          0.0000, 0.0000, 0.0000, 0.0000, 0.8118, 0.9961, 0.8235, 0.9961,\n",
              "          0.9961, 0.9961, 0.1333, 0.0000, 0.0000, 0.0000, 0.0000, 0.0000,\n",
              "          0.0000, 0.0000, 0.0000, 0.0000],\n",
              "         [0.0000, 0.0000, 0.0000, 0.0000, 0.0000, 0.0000, 0.0000, 0.0000,\n",
              "          0.0000, 0.0000, 0.0000, 0.0000, 0.3294, 0.8078, 0.9961, 0.9961,\n",
              "          0.9961, 0.9961, 0.1608, 0.0000, 0.0000, 0.0000, 0.0000, 0.0000,\n",
              "          0.0000, 0.0000, 0.0000, 0.0000],\n",
              "         [0.0000, 0.0000, 0.0000, 0.0000, 0.0000, 0.0000, 0.0000, 0.0000,\n",
              "          0.0000, 0.0000, 0.0000, 0.0000, 0.0000, 0.0941, 0.8196, 0.9961,\n",
              "          0.9961, 0.9961, 0.6706, 0.0000, 0.0000, 0.0000, 0.0000, 0.0000,\n",
              "          0.0000, 0.0000, 0.0000, 0.0000],\n",
              "         [0.0000, 0.0000, 0.0000, 0.0000, 0.0000, 0.0000, 0.0000, 0.0000,\n",
              "          0.0000, 0.0000, 0.0000, 0.0000, 0.3569, 0.5373, 0.9922, 0.9961,\n",
              "          0.9961, 0.9961, 0.4392, 0.0000, 0.0000, 0.0000, 0.0000, 0.0000,\n",
              "          0.0000, 0.0000, 0.0000, 0.0000],\n",
              "         [0.0000, 0.0000, 0.0000, 0.0000, 0.0000, 0.0000, 0.0000, 0.0000,\n",
              "          0.0000, 0.0000, 0.1569, 0.8392, 0.9804, 0.9961, 0.9961, 0.9961,\n",
              "          0.9961, 0.9961, 0.1333, 0.0000, 0.0000, 0.0000, 0.0000, 0.0000,\n",
              "          0.0000, 0.0000, 0.0000, 0.0000],\n",
              "         [0.0000, 0.0000, 0.0000, 0.0000, 0.0000, 0.0000, 0.0000, 0.0000,\n",
              "          0.0000, 0.0000, 0.3176, 0.9686, 0.9961, 0.9961, 0.9961, 0.9961,\n",
              "          0.9961, 0.9961, 0.5725, 0.0000, 0.0000, 0.0000, 0.0000, 0.0000,\n",
              "          0.0000, 0.0000, 0.0000, 0.0000],\n",
              "         [0.0000, 0.0000, 0.0000, 0.0000, 0.0000, 0.0000, 0.0000, 0.0000,\n",
              "          0.0000, 0.0000, 0.0000, 0.4314, 0.9647, 0.9961, 0.9961, 0.9961,\n",
              "          0.9961, 0.9961, 0.6706, 0.0000, 0.0000, 0.0000, 0.0000, 0.0000,\n",
              "          0.0000, 0.0000, 0.0000, 0.0000],\n",
              "         [0.0000, 0.0000, 0.0000, 0.0000, 0.0000, 0.0000, 0.0000, 0.0000,\n",
              "          0.0000, 0.0000, 0.0000, 0.0000, 0.2863, 0.3490, 0.3490, 0.3647,\n",
              "          0.9412, 0.9961, 0.6706, 0.0000, 0.0000, 0.0000, 0.0000, 0.0000,\n",
              "          0.0000, 0.0000, 0.0000, 0.0000],\n",
              "         [0.0000, 0.0000, 0.0000, 0.0000, 0.0000, 0.0000, 0.0000, 0.0000,\n",
              "          0.0000, 0.0000, 0.0000, 0.0000, 0.0000, 0.0000, 0.0000, 0.0039,\n",
              "          0.5020, 0.9961, 0.8588, 0.1216, 0.0000, 0.0000, 0.0000, 0.0000,\n",
              "          0.0000, 0.0000, 0.0000, 0.0000],\n",
              "         [0.0000, 0.0000, 0.0000, 0.0000, 0.0000, 0.0000, 0.0000, 0.0000,\n",
              "          0.0000, 0.0000, 0.0000, 0.0000, 0.0000, 0.0000, 0.0000, 0.0275,\n",
              "          0.9961, 0.9961, 0.8392, 0.1098, 0.0000, 0.0000, 0.0000, 0.0000,\n",
              "          0.0000, 0.0000, 0.0000, 0.0000],\n",
              "         [0.0000, 0.0000, 0.0000, 0.0000, 0.0000, 0.0000, 0.0000, 0.0000,\n",
              "          0.0000, 0.0000, 0.0000, 0.0000, 0.0000, 0.0000, 0.0000, 0.5412,\n",
              "          0.9961, 0.9961, 0.4549, 0.0000, 0.0000, 0.0000, 0.0000, 0.0000,\n",
              "          0.0000, 0.0000, 0.0000, 0.0000],\n",
              "         [0.0000, 0.0000, 0.0000, 0.0000, 0.0000, 0.0000, 0.0745, 0.6941,\n",
              "          0.3529, 0.0000, 0.0000, 0.0000, 0.0000, 0.0000, 0.0980, 0.9412,\n",
              "          0.9961, 0.9961, 0.1333, 0.0000, 0.0000, 0.0000, 0.0000, 0.0000,\n",
              "          0.0000, 0.0000, 0.0000, 0.0000],\n",
              "         [0.0000, 0.0000, 0.0000, 0.0000, 0.0000, 0.0000, 0.6431, 0.9961,\n",
              "          0.8431, 0.2471, 0.1412, 0.0000, 0.2000, 0.3490, 0.8078, 0.9961,\n",
              "          0.9961, 0.5451, 0.0314, 0.0000, 0.0000, 0.0000, 0.0000, 0.0000,\n",
              "          0.0000, 0.0000, 0.0000, 0.0000],\n",
              "         [0.0000, 0.0000, 0.0000, 0.0000, 0.0000, 0.0000, 0.2235, 0.7725,\n",
              "          0.9961, 0.9961, 0.8706, 0.7059, 0.9451, 0.9961, 0.9961, 0.9922,\n",
              "          0.8353, 0.0431, 0.0000, 0.0000, 0.0000, 0.0000, 0.0000, 0.0000,\n",
              "          0.0000, 0.0000, 0.0000, 0.0000],\n",
              "         [0.0000, 0.0000, 0.0000, 0.0000, 0.0000, 0.0000, 0.0000, 0.5490,\n",
              "          0.4118, 0.9961, 0.9961, 0.9961, 0.9961, 0.9961, 0.9961, 0.9255,\n",
              "          0.0000, 0.0000, 0.0000, 0.0000, 0.0000, 0.0000, 0.0000, 0.0000,\n",
              "          0.0000, 0.0000, 0.0000, 0.0000],\n",
              "         [0.0000, 0.0000, 0.0000, 0.0000, 0.0000, 0.0000, 0.0000, 0.0000,\n",
              "          0.0275, 0.4588, 0.4588, 0.6471, 0.9961, 0.9961, 0.9373, 0.1961,\n",
              "          0.0000, 0.0000, 0.0000, 0.0000, 0.0000, 0.0000, 0.0000, 0.0000,\n",
              "          0.0000, 0.0000, 0.0000, 0.0000],\n",
              "         [0.0000, 0.0000, 0.0000, 0.0000, 0.0000, 0.0000, 0.0000, 0.0000,\n",
              "          0.0000, 0.0000, 0.0000, 0.0000, 0.0000, 0.0000, 0.0000, 0.0000,\n",
              "          0.0000, 0.0000, 0.0000, 0.0000, 0.0000, 0.0000, 0.0000, 0.0000,\n",
              "          0.0000, 0.0000, 0.0000, 0.0000],\n",
              "         [0.0000, 0.0000, 0.0000, 0.0000, 0.0000, 0.0000, 0.0000, 0.0000,\n",
              "          0.0000, 0.0000, 0.0000, 0.0000, 0.0000, 0.0000, 0.0000, 0.0000,\n",
              "          0.0000, 0.0000, 0.0000, 0.0000, 0.0000, 0.0000, 0.0000, 0.0000,\n",
              "          0.0000, 0.0000, 0.0000, 0.0000],\n",
              "         [0.0000, 0.0000, 0.0000, 0.0000, 0.0000, 0.0000, 0.0000, 0.0000,\n",
              "          0.0000, 0.0000, 0.0000, 0.0000, 0.0000, 0.0000, 0.0000, 0.0000,\n",
              "          0.0000, 0.0000, 0.0000, 0.0000, 0.0000, 0.0000, 0.0000, 0.0000,\n",
              "          0.0000, 0.0000, 0.0000, 0.0000],\n",
              "         [0.0000, 0.0000, 0.0000, 0.0000, 0.0000, 0.0000, 0.0000, 0.0000,\n",
              "          0.0000, 0.0000, 0.0000, 0.0000, 0.0000, 0.0000, 0.0000, 0.0000,\n",
              "          0.0000, 0.0000, 0.0000, 0.0000, 0.0000, 0.0000, 0.0000, 0.0000,\n",
              "          0.0000, 0.0000, 0.0000, 0.0000]]])"
            ]
          },
          "metadata": {},
          "execution_count": 62
        }
      ],
      "source": [
        "x_10_tensor #values stored inside the variable"
      ]
    },
    {
      "cell_type": "markdown",
      "metadata": {
        "id": "XuPV5Yj0P9Cr"
      },
      "source": [
        "By default, a tensor is processed with a [CPU](https://www.arm.com/glossary/cpu)."
      ]
    },
    {
      "cell_type": "code",
      "execution_count": 63,
      "metadata": {
        "colab": {
          "base_uri": "https://localhost:8080/"
        },
        "id": "MUDWAzz386wC",
        "outputId": "1c0c10bd-515d-4f0e-a16f-9d0fab72c6f8"
      },
      "outputs": [
        {
          "output_type": "execute_result",
          "data": {
            "text/plain": [
              "device(type='cpu')"
            ]
          },
          "metadata": {},
          "execution_count": 63
        }
      ],
      "source": [
        "x_10_tensor.device"
      ]
    },
    {
      "cell_type": "markdown",
      "metadata": {
        "id": "hkZjULp5P9Cr"
      },
      "source": [
        "To move it to a GPU, we can use the `.cuda` method."
      ]
    },
    {
      "cell_type": "code",
      "execution_count": 64,
      "metadata": {
        "colab": {
          "base_uri": "https://localhost:8080/"
        },
        "id": "PtVbrIK_8bwz",
        "outputId": "b645aa9c-5b03-4378-f7e2-4f1766f19410"
      },
      "outputs": [
        {
          "output_type": "execute_result",
          "data": {
            "text/plain": [
              "device(type='cuda', index=0)"
            ]
          },
          "metadata": {},
          "execution_count": 64
        }
      ],
      "source": [
        "x_10_gpu = x_10_tensor.cuda() # will throw error if no cuda driver or cudatoolkit is found underneath\n",
        "x_10_gpu.device"
      ]
    },
    {
      "cell_type": "markdown",
      "metadata": {
        "id": "JqldOeIWP9Cv"
      },
      "source": [
        "\n",
        "The `.cuda` method can only be used if PyTorch detects a compatible GPU. To make our code more adaptable, we can use the `to` method with the `device` variable defined earlier. This approach ensures that the tensor is sent to the appropriate device—GPU if available, or CPU otherwise. By doing this, our code takes advantage of GPU acceleration when possible, while still functioning correctly on systems without a GPU."
      ]
    },
    {
      "cell_type": "code",
      "execution_count": 65,
      "metadata": {
        "colab": {
          "base_uri": "https://localhost:8080/"
        },
        "id": "_qSz_fcP8swy",
        "outputId": "d126a0ca-1f81-474a-b02f-73cf903f1722"
      },
      "outputs": [
        {
          "output_type": "execute_result",
          "data": {
            "text/plain": [
              "device(type='cuda', index=0)"
            ]
          },
          "metadata": {},
          "execution_count": 65
        }
      ],
      "source": [
        "x_10_tensor.to(device).device"
      ]
    },
    {
      "cell_type": "markdown",
      "metadata": {
        "id": "lBqQfpwo2zf4"
      },
      "source": [
        "Sometimes, it can be hard to interpret so many numbers. Thankfully, TorchVision can convert `C x H x W` tensors back into a PIL image with the [to_pil_image](https://pytorch.org/vision/main/generated/torchvision.transforms.functional.to_pil_image.html) function."
      ]
    },
    {
      "cell_type": "code",
      "execution_count": 66,
      "metadata": {
        "colab": {
          "base_uri": "https://localhost:8080/",
          "height": 447
        },
        "id": "fsqamRxJ2zf4",
        "outputId": "532d58af-b7dd-41ba-e4cc-62164e5af47a"
      },
      "outputs": [
        {
          "output_type": "execute_result",
          "data": {
            "text/plain": [
              "<matplotlib.image.AxesImage at 0x7bdf9bad2950>"
            ]
          },
          "metadata": {},
          "execution_count": 66
        },
        {
          "output_type": "display_data",
          "data": {
            "text/plain": [
              "<Figure size 640x480 with 1 Axes>"
            ],
            "image/png": "[encoded data removed]"
          },
          "metadata": {}
        }
      ],
      "source": [
        "image = F.to_pil_image(x_10_tensor) #display PIL image from tensor values\n",
        "plt.imshow(image, cmap='gray')"
      ]
    },
    {
      "cell_type": "markdown",
      "metadata": {
        "id": "nkdhQVV9P9Cw"
      },
      "source": [
        "### Preparing the Data for Training"
      ]
    },
    {
      "cell_type": "markdown",
      "metadata": {
        "id": "dkqY4y41P9Cw"
      },
      "source": [
        "---\n",
        "\n",
        "Previously, we defined a `trans` variable to handle the conversion of an image into a tensor. [Transforms](https://pytorch.org/vision/stable/transforms.html) in torchvision are a set of utility functions that enable various modifications and preprocessing steps on datasets, such as resizing, normalization, and data augmentation. These transformations can be applied to prepare the dataset for use in a neural network.\n",
        "\n",
        "---"
      ]
    },
    {
      "cell_type": "markdown",
      "metadata": {
        "id": "6r1_cIyfP9Cw"
      },
      "source": [
        "### Transforms function"
      ]
    },
    {
      "cell_type": "code",
      "execution_count": 67,
      "metadata": {
        "id": "8Abm-XRMP9Cw"
      },
      "outputs": [],
      "source": [
        "trans = transforms.Compose([transforms.ToTensor()])"
      ]
    },
    {
      "cell_type": "markdown",
      "metadata": {
        "id": "AdEsLjN8P9Cw"
      },
      "source": [
        "There are multiple ways we can apply our list of transforms to a dataset. One such way is to set it to a dataset's `transform` variable."
      ]
    },
    {
      "cell_type": "code",
      "execution_count": 68,
      "metadata": {
        "id": "ue8Qs8RU0nF7"
      },
      "outputs": [],
      "source": [
        "train_set.transform = trans\n",
        "valid_set.transform = trans"
      ]
    },
    {
      "cell_type": "markdown",
      "metadata": {
        "id": "EeeV-yP5P9Cw"
      },
      "source": [
        "### Pytorch DataLoaders"
      ]
    },
    {
      "cell_type": "markdown",
      "metadata": {
        "id": "iVZwhM6rP9Cw"
      },
      "source": [
        "---\n",
        "\n",
        "Think of a dataset as a deck of flashcards. A [DataLoader](https://pytorch.org/tutorials/beginner/basics/data_tutorial.html#preparing-your-data-for-training-with-dataloaders) determines how cards are drawn from this deck to train a machine learning model. While it’s possible to process the entire dataset at once, this approach is computationally expensive. Instead, using smaller batches of data has been shown to improve training efficiency ([source](https://arxiv.org/pdf/1804.07612)).\n",
        "\n",
        "For instance, if we set a `batch_size` of 32, the model is trained by shuffling the deck and drawing 32 cards at a time. Shuffling is unnecessary for validation since the model is not learning during this phase, but a batch size is still used to manage memory efficiently.\n",
        "\n",
        "The optimal batch size depends on the specific problem and resources available. However, values like 32 or 64 are commonly sufficient for many tasks and are default settings in some machine learning frameworks. For simplicity, we’ll use a batch size of 32 in this example.\n",
        "\n",
        "---"
      ]
    },
    {
      "cell_type": "code",
      "execution_count": 69,
      "metadata": {
        "id": "vhfKSYKCpHxf"
      },
      "outputs": [],
      "source": [
        "train_loader = DataLoader(train_set, batch_size=32, shuffle=True)\n",
        "valid_loader = DataLoader(valid_set, batch_size=32)"
      ]
    },
    {
      "cell_type": "markdown",
      "metadata": {
        "id": "8VuqhUC_P9Cw"
      },
      "source": [
        "### Build a Model"
      ]
    },
    {
      "cell_type": "markdown",
      "metadata": {
        "id": "dzhF46qkP9Cw"
      },
      "source": [
        "\n",
        "\n",
        "---\n",
        "\n",
        "Now, let’s build the model! Neural networks consist of layers, where each layer performs specific mathematical operations on the input data before passing it to the next layer. To begin, we’ll construct a basic model consisting of four key components:\n",
        "\n",
        "1. A [Flatten](https://pytorch.org/docs/stable/generated/torch.nn.Flatten.html) layer that converts multi-dimensional input data into a one-dimensional vector.\n",
        "2. An **input layer**, which serves as the first layer of neurons receiving the input data.\n",
        "3. A **hidden layer**, an intermediate layer of neurons that processes the data and helps the model learn complex patterns.\n",
        "4. An **output layer**, the final layer that produces the model's predictions.\n",
        "\n",
        "We’ll store these components in a `layers` variable, which will hold the list of layers for our model.\n",
        "\n",
        "---"
      ]
    },
    {
      "cell_type": "code",
      "execution_count": 70,
      "metadata": {
        "colab": {
          "base_uri": "https://localhost:8080/"
        },
        "id": "fg7H7huGP9Cw",
        "outputId": "9094b342-fb9a-434a-b88f-9c590278be82"
      },
      "outputs": [
        {
          "output_type": "execute_result",
          "data": {
            "text/plain": [
              "[]"
            ]
          },
          "metadata": {},
          "execution_count": 70
        }
      ],
      "source": [
        "layers = []\n",
        "layers"
      ]
    },
    {
      "cell_type": "markdown",
      "metadata": {
        "id": "uP8vTazyP9Cw"
      },
      "source": [
        "When we looked at the shape of our data above, we saw the images had 3 dimensions: `C x H x W`. To flatten an image means to combine all of these images into 1 dimension. Let's say we have a tensor like the one below. Try running the code cell to see what it looks like before and after being flattened."
      ]
    },
    {
      "cell_type": "code",
      "execution_count": 71,
      "metadata": {
        "colab": {
          "base_uri": "https://localhost:8080/"
        },
        "id": "0B3KAMcoP9Cx",
        "outputId": "ffb3557f-a9ac-461c-8df9-c3090ca0b978"
      },
      "outputs": [
        {
          "output_type": "execute_result",
          "data": {
            "text/plain": [
              "tensor([[1, 2, 3],\n",
              "        [4, 5, 6],\n",
              "        [7, 8, 9]])"
            ]
          },
          "metadata": {},
          "execution_count": 71
        }
      ],
      "source": [
        "test_matrix = torch.tensor(\n",
        "    [[1, 2, 3],\n",
        "     [4, 5, 6],\n",
        "     [7, 8, 9]]\n",
        ")\n",
        "test_matrix"
      ]
    },
    {
      "cell_type": "code",
      "execution_count": 72,
      "metadata": {
        "colab": {
          "base_uri": "https://localhost:8080/"
        },
        "id": "VzWjRhj8P9Cx",
        "outputId": "31e81339-3e40-41c6-c076-64aaff85465e"
      },
      "outputs": [
        {
          "output_type": "execute_result",
          "data": {
            "text/plain": [
              "tensor([[1, 2, 3],\n",
              "        [4, 5, 6],\n",
              "        [7, 8, 9]])"
            ]
          },
          "metadata": {},
          "execution_count": 72
        }
      ],
      "source": [
        "nn.Flatten()(test_matrix)"
      ]
    },
    {
      "cell_type": "markdown",
      "metadata": {
        "id": "OnKOFXXMP9Cx"
      },
      "source": [
        "\n",
        "---\n",
        "\n",
        "Why didn’t anything happen? Neural networks are designed to process data in batches, but currently, the Flatten layer is seeing three separate vectors instead of a single 2D matrix. To resolve this, we need to \"batch\" the data by introducing an additional dimension.\n",
        "\n",
        "This can be achieved by adding a new pair of brackets to the data. Since `test_matrix` is already a tensor, we can use the shorthand method below. The keyword `None` creates a new dimension, while `:` selects all the elements along that dimension.\n",
        "\n",
        "---"
      ]
    },
    {
      "cell_type": "code",
      "execution_count": 73,
      "metadata": {
        "colab": {
          "base_uri": "https://localhost:8080/"
        },
        "id": "N7HSm4ukP9Cx",
        "outputId": "24ee347a-7794-4c84-c44e-97342adc1492"
      },
      "outputs": [
        {
          "output_type": "execute_result",
          "data": {
            "text/plain": [
              "tensor([[[1, 2, 3],\n",
              "         [4, 5, 6],\n",
              "         [7, 8, 9]]])"
            ]
          },
          "metadata": {},
          "execution_count": 73
        }
      ],
      "source": [
        "batch_test_matrix = test_matrix[None, :]\n",
        "batch_test_matrix"
      ]
    },
    {
      "cell_type": "code",
      "execution_count": 74,
      "metadata": {
        "colab": {
          "base_uri": "https://localhost:8080/"
        },
        "id": "TWLqfCx6P9Cx",
        "outputId": "99466e0c-0070-45ae-f424-b8b92d37ede5"
      },
      "outputs": [
        {
          "output_type": "execute_result",
          "data": {
            "text/plain": [
              "tensor([[1, 2, 3, 4, 5, 6, 7, 8, 9]])"
            ]
          },
          "metadata": {},
          "execution_count": 74
        }
      ],
      "source": [
        "nn.Flatten()(batch_test_matrix)"
      ]
    },
    {
      "cell_type": "markdown",
      "metadata": {
        "id": "NKHIt92VP9Cx"
      },
      "source": [
        "Now that we've gotten the hang of the `Flatten` layer, let's add it to our list of `layers`."
      ]
    },
    {
      "cell_type": "code",
      "execution_count": 75,
      "metadata": {
        "colab": {
          "base_uri": "https://localhost:8080/"
        },
        "id": "SlcUIe5kP9Cx",
        "outputId": "bfc7121f-3300-49d3-ccb2-d6b5017b0e8d"
      },
      "outputs": [
        {
          "output_type": "execute_result",
          "data": {
            "text/plain": [
              "[Flatten(start_dim=1, end_dim=-1)]"
            ]
          },
          "metadata": {},
          "execution_count": 75
        }
      ],
      "source": [
        "layers = [\n",
        "    nn.Flatten()\n",
        "]\n",
        "layers"
      ]
    },
    {
      "cell_type": "markdown",
      "metadata": {
        "id": "1Cx23dzyP9Cx"
      },
      "source": [
        "### The Input Layer"
      ]
    },
    {
      "cell_type": "markdown",
      "metadata": {
        "id": "rYo8PM8CP9Cx"
      },
      "source": [
        "\n",
        "---\n",
        "\n",
        "The first layer of neurons in our model connects the flattened input image to the rest of the network. For this, we’ll use a [Linear](https://pytorch.org/docs/stable/generated/torch.nn.Linear.html) layer, which is a *fully connected layer*. In a fully connected layer, each neuron and its corresponding weights influence every neuron in the subsequent layer.\n",
        "\n",
        "To initialize the weights for this layer, PyTorch needs two key pieces of information:\n",
        "1. **The size of the input**: Since our images are flattened, the input size is determined by multiplying the number of channels, the image height (in pixels), and the image width (in pixels).\n",
        "2. **The number of neurons**: This is a parameter we define, determining how many neurons the layer will contain.\n",
        "\n",
        "This layer will serve as the foundation for processing the input data and passing it to the deeper layers of the network.\n",
        "\n",
        "---"
      ]
    },
    {
      "cell_type": "code",
      "execution_count": 76,
      "metadata": {
        "id": "g5pJH07eP9Cx"
      },
      "outputs": [],
      "source": [
        "input_size = 1 * 28 * 28"
      ]
    },
    {
      "cell_type": "markdown",
      "metadata": {
        "id": "Ps2_R4ZfP9Cx"
      },
      "source": [
        "\n",
        "---\n",
        "\n",
        "Deciding on the right number of neurons is part of the \"science\" in data science, as it involves balancing the model's capacity to capture the dataset's complexity. For now, we’ll use `512` neurons in this layer. Later, you can experiment with this value to observe its impact on training and begin understanding how this choice influences the model's performance.\n",
        "\n",
        "We’ll also introduce an **activation function**, which helps the network learn more complex patterns. While we’ll dive deeper into activation functions later, for now, we’ll use the [ReLU](https://pytorch.org/docs/stable/generated/torch.nn.ReLU.html) (Rectified Linear Unit) activation function. ReLU is widely used because it enables the network to model non-linear relationships in the data, leading to more accurate predictions compared to relying on strictly linear transformations.\n",
        "\n",
        "---"
      ]
    },
    {
      "cell_type": "code",
      "execution_count": 77,
      "metadata": {
        "colab": {
          "base_uri": "https://localhost:8080/"
        },
        "id": "Ld7IdUqHP9Cx",
        "outputId": "1e3842ce-b64a-4681-ce3f-ab8abe5ec1d2"
      },
      "outputs": [
        {
          "output_type": "execute_result",
          "data": {
            "text/plain": [
              "[Flatten(start_dim=1, end_dim=-1),\n",
              " Linear(in_features=784, out_features=512, bias=True),\n",
              " ReLU()]"
            ]
          },
          "metadata": {},
          "execution_count": 77
        }
      ],
      "source": [
        "layers = [\n",
        "    nn.Flatten(),\n",
        "    nn.Linear(input_size, 512),  # Input images\n",
        "    nn.ReLU(),  # Activation for input\n",
        "]\n",
        "layers"
      ]
    },
    {
      "cell_type": "markdown",
      "metadata": {
        "id": "tsbHYuY8P9Cx"
      },
      "source": [
        "### The Hidden Layer"
      ]
    },
    {
      "cell_type": "markdown",
      "metadata": {
        "id": "rrKs3lMdP9Cy"
      },
      "source": [
        "\n",
        "---\n",
        "\n",
        "Next, we’ll include another fully connected (dense) linear layer in our model. In a later lesson, we’ll explore why adding additional layers of neurons can enhance a model’s ability to learn and capture patterns in the data.\n",
        "\n",
        "Similar to the input layer, the hidden layer's [nn.Linear](https://pytorch.org/docs/stable/generated/torch.nn.Linear.html) needs to know the size of the data it will process. Specifically, the number of inputs to the hidden layer matches the number of neurons in the previous layer, as each neuron in the previous layer contributes one value to the next layer. This ensures the layers are properly connected and can pass data effectively through the network.\n",
        "\n",
        "---"
      ]
    },
    {
      "cell_type": "code",
      "execution_count": 78,
      "metadata": {
        "colab": {
          "base_uri": "https://localhost:8080/"
        },
        "id": "AnB7F3K7P9Cy",
        "outputId": "a9aea924-2439-4045-9cca-4c54915df2f8"
      },
      "outputs": [
        {
          "output_type": "execute_result",
          "data": {
            "text/plain": [
              "[Flatten(start_dim=1, end_dim=-1),\n",
              " Linear(in_features=784, out_features=512, bias=True),\n",
              " ReLU(),\n",
              " Linear(in_features=512, out_features=512, bias=True),\n",
              " ReLU()]"
            ]
          },
          "metadata": {},
          "execution_count": 78
        }
      ],
      "source": [
        "layers = [\n",
        "    nn.Flatten(),\n",
        "    nn.Linear(input_size, 512),  # Input\n",
        "    nn.ReLU(),  # Activation for input\n",
        "    nn.Linear(512, 512),  # Hidden\n",
        "    nn.ReLU()  # Activation for hidden\n",
        "]\n",
        "layers"
      ]
    },
    {
      "cell_type": "markdown",
      "metadata": {
        "id": "74R0-DlYP9Cy"
      },
      "source": [
        "### The Output Layer"
      ]
    },
    {
      "cell_type": "markdown",
      "metadata": {
        "id": "-kC1EfWSP9Cy"
      },
      "source": [
        "---\n",
        "\n",
        "Finally, we’ll add the output layer to the model. Since our task is to classify an input image into one of 10 possible categories, the output layer will have 10 neurons—one for each class. The model’s prediction is based on the neuron with the highest output value. A higher value for a specific neuron indicates the model’s confidence that the input image belongs to the class assigned to that neuron.\n",
        "\n",
        "Unlike the previous layers, we won’t apply the `relu` activation function to the output layer. Instead, a **loss function** will be used to process the outputs, which we’ll discuss in the next section. The loss function is essential for guiding the model’s learning by comparing predictions to the true labels and calculating how far off the predictions are.\n",
        "\n",
        "---"
      ]
    },
    {
      "cell_type": "code",
      "execution_count": 79,
      "metadata": {
        "colab": {
          "base_uri": "https://localhost:8080/"
        },
        "id": "aDpgU487P9Cy",
        "outputId": "a01c3041-35a4-4a22-be05-99940381f31c"
      },
      "outputs": [
        {
          "output_type": "execute_result",
          "data": {
            "text/plain": [
              "[Flatten(start_dim=1, end_dim=-1),\n",
              " Linear(in_features=784, out_features=512, bias=True),\n",
              " ReLU(),\n",
              " Linear(in_features=512, out_features=512, bias=True),\n",
              " ReLU(),\n",
              " Linear(in_features=512, out_features=10, bias=True)]"
            ]
          },
          "metadata": {},
          "execution_count": 79
        }
      ],
      "source": [
        "n_classes = 10\n",
        "\n",
        "layers = [\n",
        "    nn.Flatten(),\n",
        "    nn.Linear(input_size, 512),  # Input\n",
        "    nn.ReLU(),  # Activation for input\n",
        "    nn.Linear(512, 512),  # Hidden\n",
        "    nn.ReLU(),  # Activation for hidden\n",
        "    nn.Linear(512, n_classes)  # Output\n",
        "]\n",
        "layers"
      ]
    },
    {
      "cell_type": "markdown",
      "metadata": {
        "id": "ATkct_3CP9Cy"
      },
      "source": [
        "### Compiling the Basic Model"
      ]
    },
    {
      "cell_type": "markdown",
      "metadata": {
        "id": "ZtJJAGiIP9Cy"
      },
      "source": [
        "A [Sequential](https://pytorch.org/docs/stable/generated/torch.nn.Sequential.html) model expects a sequence of arguments, not a list, so we can use the [* operator](https://docs.python.org/3/reference/expressions.html#expression-lists) to unpack our list of layers into a sequence. We can print the model to verify these layers loaded correctly."
      ]
    },
    {
      "cell_type": "code",
      "execution_count": 80,
      "metadata": {
        "id": "7lmQ-G_FuThy",
        "colab": {
          "base_uri": "https://localhost:8080/"
        },
        "outputId": "fedadd52-c052-43ed-ea4a-d206806b4195"
      },
      "outputs": [
        {
          "output_type": "execute_result",
          "data": {
            "text/plain": [
              "Sequential(\n",
              "  (0): Flatten(start_dim=1, end_dim=-1)\n",
              "  (1): Linear(in_features=784, out_features=512, bias=True)\n",
              "  (2): ReLU()\n",
              "  (3): Linear(in_features=512, out_features=512, bias=True)\n",
              "  (4): ReLU()\n",
              "  (5): Linear(in_features=512, out_features=10, bias=True)\n",
              ")"
            ]
          },
          "metadata": {},
          "execution_count": 80
        }
      ],
      "source": [
        "model = nn.Sequential(*layers)\n",
        "model"
      ]
    },
    {
      "cell_type": "markdown",
      "metadata": {
        "id": "hGSKooDz1DH5"
      },
      "source": [
        "Much like tensors, when the model is first initialized, it will be processed on a CPU. To have it process with a GPU, we can use `to(device)`."
      ]
    },
    {
      "cell_type": "code",
      "execution_count": 81,
      "metadata": {
        "colab": {
          "base_uri": "https://localhost:8080/"
        },
        "id": "ynuW56udz7C1",
        "outputId": "23e47b7c-323c-4d40-fe38-9b72d455a64e"
      },
      "outputs": [
        {
          "output_type": "execute_result",
          "data": {
            "text/plain": [
              "Sequential(\n",
              "  (0): Flatten(start_dim=1, end_dim=-1)\n",
              "  (1): Linear(in_features=784, out_features=512, bias=True)\n",
              "  (2): ReLU()\n",
              "  (3): Linear(in_features=512, out_features=512, bias=True)\n",
              "  (4): ReLU()\n",
              "  (5): Linear(in_features=512, out_features=10, bias=True)\n",
              ")"
            ]
          },
          "metadata": {},
          "execution_count": 81
        }
      ],
      "source": [
        "model.to(device)"
      ]
    },
    {
      "cell_type": "markdown",
      "metadata": {
        "id": "U3XjPeKeP9Cy"
      },
      "source": [
        "To check which device a model is on, we can check which device the model parameters are on. Check out this [stack overflow](https://stackoverflow.com/questions/58926054/how-to-get-the-device-type-of-a-pytorch-module-conveniently) post for more information."
      ]
    },
    {
      "cell_type": "code",
      "execution_count": 82,
      "metadata": {
        "colab": {
          "base_uri": "https://localhost:8080/"
        },
        "id": "VlCPs5KDz9Ii",
        "outputId": "102af2ae-5f85-49e5-c76b-5eddf0bac746"
      },
      "outputs": [
        {
          "output_type": "execute_result",
          "data": {
            "text/plain": [
              "device(type='cuda', index=0)"
            ]
          },
          "metadata": {},
          "execution_count": 82
        }
      ],
      "source": [
        "next(model.parameters()).device"
      ]
    },
    {
      "cell_type": "code",
      "execution_count": 83,
      "metadata": {
        "id": "Kl_EcJPgP9Cy"
      },
      "outputs": [],
      "source": [
        "model = torch.compile(model)"
      ]
    },
    {
      "cell_type": "markdown",
      "metadata": {
        "id": "wX2IUAa2P9Cz"
      },
      "source": [
        "### Training the Basic Model"
      ]
    },
    {
      "cell_type": "markdown",
      "metadata": {
        "id": "DuPyNWPLP9Cz"
      },
      "source": [
        "---\n",
        "\n",
        "With the training and validation data prepared, and our model defined, it’s time to train the model using the training data and evaluate its performance with the validation data.\n",
        "\n",
        "The process of \"training a model\" is often referred to as \"fitting the model to the data.\" This term emphasizes that the model's parameters are adjusted during training to better represent and understand the patterns in the data it is provided. Over time, these adjustments enable the model to make increasingly accurate predictions.\n",
        "\n",
        "---"
      ]
    },
    {
      "cell_type": "markdown",
      "metadata": {
        "id": "6ryMsAboP9Cz"
      },
      "source": [
        "### Loss and Optimization"
      ]
    },
    {
      "cell_type": "markdown",
      "metadata": {
        "id": "9aoP1_uWP9Cz"
      },
      "source": [
        "---\n",
        "\n",
        "Similar to how teachers grade students' work, we need a way to evaluate the model's predictions. This evaluation is done using a `loss function`. A loss function measures how far off the model's predictions are from the true answers.\n",
        "\n",
        "For this task, we’ll use [CrossEntropy](https://pytorch.org/docs/stable/generated/torch.nn.CrossEntropyLoss.html), a loss function specifically designed for classification problems. It calculates how well the model predicts the correct category from a set of possible categories, providing feedback that guides the model's learning process.\n",
        "\n",
        "---"
      ]
    },
    {
      "cell_type": "code",
      "execution_count": 84,
      "metadata": {
        "id": "jG8Oxrz0z_y2"
      },
      "outputs": [],
      "source": [
        "loss_function = nn.CrossEntropyLoss()"
      ]
    },
    {
      "cell_type": "markdown",
      "metadata": {
        "id": "GBfzzWAHP9Cz"
      },
      "source": [
        "Next, we select an `optimizer` for our model. If the `loss_function` provides a grade, the optimizer tells the model how to learn from this grade to do better next time."
      ]
    },
    {
      "cell_type": "code",
      "execution_count": 85,
      "metadata": {
        "id": "HBx26m_1P9Cz"
      },
      "outputs": [],
      "source": [
        "optimizer = Adam(model.parameters())"
      ]
    },
    {
      "cell_type": "markdown",
      "metadata": {
        "id": "yFivEYB4P9Cz"
      },
      "source": [
        "### Calculating Accuracy"
      ]
    },
    {
      "cell_type": "markdown",
      "metadata": {
        "id": "Cwrd2AgjP9Cz"
      },
      "source": [
        "\n",
        "\n",
        "---\n",
        "\n",
        "Although the loss function provides valuable feedback for the model to learn, its results can be difficult for humans to interpret. For this reason, data scientists often include additional metrics, such as accuracy, to better understand the model's performance.\n",
        "\n",
        "To calculate accuracy, we compare the number of correct predictions made by the model to the total number of predictions. Since we process data in batches during training and evaluation, accuracy can be calculated for each batch and then aggregated.\n",
        "\n",
        "The total number of predictions corresponds to the size of the dataset. Let’s represent this as `N`. The `batch size`, denoted as `n`, determines how many samples are processed at a time. By keeping track of these values, we can calculate the overall accuracy efficiently.\n",
        "\n",
        "---"
      ]
    },
    {
      "cell_type": "code",
      "execution_count": 86,
      "metadata": {
        "id": "Gz2q85YPP9Cz"
      },
      "outputs": [],
      "source": [
        "train_N = len(train_loader.dataset)\n",
        "valid_N = len(valid_loader.dataset)"
      ]
    },
    {
      "cell_type": "code",
      "execution_count": 87,
      "metadata": {
        "colab": {
          "base_uri": "https://localhost:8080/"
        },
        "id": "w3oHgGxfP9Cz",
        "outputId": "4c7ffb2c-1741-493f-ecaf-86d22e1c2c9d"
      },
      "outputs": [
        {
          "output_type": "stream",
          "name": "stdout",
          "text": [
            "60000\n"
          ]
        }
      ],
      "source": [
        "print(train_N) #Total training dataset"
      ]
    },
    {
      "cell_type": "code",
      "execution_count": 88,
      "metadata": {
        "colab": {
          "base_uri": "https://localhost:8080/"
        },
        "id": "7NtqqWPSP9Cz",
        "outputId": "1c6a3465-364e-4dc0-b67e-944e1ee71d1f"
      },
      "outputs": [
        {
          "output_type": "stream",
          "name": "stdout",
          "text": [
            "10000\n"
          ]
        }
      ],
      "source": [
        "print(valid_N) #Total testing dataset"
      ]
    },
    {
      "cell_type": "markdown",
      "metadata": {
        "id": "WZq5_xcHP9Cz"
      },
      "source": [
        "\n",
        "\n",
        "Next, we’ll create a function to compute the accuracy for each batch. This function will calculate the fraction of correct predictions within the batch. By summing up these batch-level accuracies, we can determine the overall accuracy across the entire dataset. This approach ensures that accuracy is calculated efficiently, even when working with data in batches."
      ]
    },
    {
      "cell_type": "code",
      "execution_count": 89,
      "metadata": {
        "id": "Q334qEF-P9Cz"
      },
      "outputs": [],
      "source": [
        "def get_batch_accuracy(output, y, N):\n",
        "    pred = output.argmax(dim=1, keepdim=True)\n",
        "    correct = pred.eq(y.view_as(pred)).sum().item()\n",
        "    return correct / N"
      ]
    },
    {
      "cell_type": "markdown",
      "metadata": {
        "id": "YaeeJeH6P9Cz"
      },
      "source": [
        "### The Train Function to train model"
      ]
    },
    {
      "cell_type": "code",
      "execution_count": 90,
      "metadata": {
        "id": "8iPLK1V53w3R"
      },
      "outputs": [],
      "source": [
        "def train():\n",
        "    loss = 0\n",
        "    accuracy = 0\n",
        "\n",
        "    model.train()\n",
        "    for x, y in train_loader:\n",
        "        x, y = x.to(device), y.to(device)\n",
        "        output = model(x)\n",
        "        optimizer.zero_grad()\n",
        "        batch_loss = loss_function(output, y)\n",
        "        batch_loss.backward()\n",
        "        optimizer.step()\n",
        "\n",
        "        loss += batch_loss.item()\n",
        "        accuracy += get_batch_accuracy(output, y, train_N)\n",
        "    print('Train - Loss: {:.4f} Accuracy: {:.4f}'.format(loss, accuracy))"
      ]
    },
    {
      "cell_type": "markdown",
      "metadata": {
        "id": "Af7Ju4qcP9C0"
      },
      "source": [
        "### The Validate Function for validating model"
      ]
    },
    {
      "cell_type": "code",
      "execution_count": 91,
      "metadata": {
        "id": "8WlmJPR5yZJ5"
      },
      "outputs": [],
      "source": [
        "def validate():\n",
        "    loss = 0\n",
        "    accuracy = 0\n",
        "\n",
        "    model.eval()\n",
        "    with torch.no_grad():\n",
        "        for x, y in valid_loader:\n",
        "            x, y = x.to(device), y.to(device)\n",
        "            output = model(x)\n",
        "\n",
        "            loss += loss_function(output, y).item()\n",
        "            accuracy += get_batch_accuracy(output, y, valid_N)\n",
        "    print('Valid - Loss: {:.4f} Accuracy: {:.4f}'.format(loss, accuracy))"
      ]
    },
    {
      "cell_type": "markdown",
      "metadata": {
        "id": "D1GTLlFeP9C0"
      },
      "source": [
        "### The Training Loop"
      ]
    },
    {
      "cell_type": "markdown",
      "metadata": {
        "id": "j0S0Zl7sP9C0"
      },
      "source": [
        "\n",
        "\n",
        "---\n",
        "\n",
        "To monitor the model's progress, we will alternate between training and validation. Just as a student may need to review their deck of flashcards several times to fully grasp the concepts, the model must pass through the training data multiple times to improve its understanding.\n",
        "\n",
        "An **epoch** refers to one complete pass through the entire dataset. Let’s train and validate the model for 10 epochs, allowing us to observe how it learns and refines its predictions over time.\n",
        "\n",
        "---"
      ]
    },
    {
      "cell_type": "code",
      "execution_count": 92,
      "metadata": {
        "colab": {
          "base_uri": "https://localhost:8080/"
        },
        "id": "SElV0J_aw-bW",
        "outputId": "7702f30a-9ee5-487c-e490-4d5ab3861faf"
      },
      "outputs": [
        {
          "output_type": "stream",
          "name": "stdout",
          "text": [
            "Epoch: 0\n",
            "Train - Loss: 381.0918 Accuracy: 0.9385\n",
            "Valid - Loss: 28.1521 Accuracy: 0.9716\n",
            "Epoch: 1\n",
            "Train - Loss: 154.8594 Accuracy: 0.9752\n",
            "Valid - Loss: 30.1080 Accuracy: 0.9704\n",
            "Epoch: 2\n",
            "Train - Loss: 109.4626 Accuracy: 0.9814\n",
            "Valid - Loss: 20.7085 Accuracy: 0.9801\n"
          ]
        }
      ],
      "source": [
        "# Start the timer\n",
        "start_time = time.time()\n",
        "\n",
        "epochs = 3\n",
        "torch.set_float32_matmul_precision('high')\n",
        "for epoch in range(epochs):\n",
        "    print('Epoch: {}'.format(epoch))\n",
        "    train()\n",
        "    validate()\n",
        "\n",
        "# End the timer\n",
        "end_time = time.time()"
      ]
    },
    {
      "cell_type": "code",
      "source": [
        "# Total duration\n",
        "total_duration = end_time - start_time\n",
        "\n",
        "# Print the total time taken\n",
        "print(f\"Time taken for {epochs} epochs: {total_duration:.2f} seconds.\")"
      ],
      "metadata": {
        "colab": {
          "base_uri": "https://localhost:8080/"
        },
        "id": "WXn8lZe7RRy3",
        "outputId": "1b0043d6-ddd4-41de-da4f-288a9a1642b3"
      },
      "execution_count": 93,
      "outputs": [
        {
          "output_type": "stream",
          "name": "stdout",
          "text": [
            "Time taken for 3 epochs: 46.83 seconds.\n"
          ]
        }
      ]
    },
    {
      "cell_type": "markdown",
      "metadata": {
        "id": "67py6hiVP9C0"
      },
      "source": [
        "testing it on our original sample. We can use our model like a function:"
      ]
    },
    {
      "cell_type": "code",
      "execution_count": 94,
      "metadata": {
        "colab": {
          "base_uri": "https://localhost:8080/"
        },
        "id": "FPKjh3TN1_Sx",
        "outputId": "a606f041-4917-4751-e693-6a35ac844d56"
      },
      "outputs": [
        {
          "output_type": "execute_result",
          "data": {
            "text/plain": [
              "tensor([[-13.3295,  -6.1388,  -6.4491,  12.4359,  -9.0807,  -4.3016, -21.6485,\n",
              "          -7.7726,  -1.7675,   0.3612]], device='cuda:0',\n",
              "       grad_fn=<CompiledFunctionBackward>)"
            ]
          },
          "metadata": {},
          "execution_count": 94
        }
      ],
      "source": [
        "prediction = model(x_10_gpu) #commentout if you are using CPU, use when you are using GPU\n",
        "#prediction = model(x_10_tensor) #vice versa\n",
        "prediction"
      ]
    },
    {
      "cell_type": "markdown",
      "metadata": {
        "id": "tlGTa4bjP9C0"
      },
      "source": [
        "There should be ten numbers, each corresponding to a different output neuron. Thanks to how the data is structured, the index of each number matches the corresponding handwritten number. The 0th index is a prediction for a handwritten 0, the 1st index is a prediction for a handwritten 1, and so on.\n",
        "\n",
        "We can use the `argmax` function to find the index of the highest value."
      ]
    },
    {
      "cell_type": "code",
      "execution_count": 95,
      "metadata": {
        "colab": {
          "base_uri": "https://localhost:8080/"
        },
        "id": "XrmW1TrN2OOr",
        "outputId": "12aa3cf9-3cd1-4761-ee9a-ca0ae10aa2b0"
      },
      "outputs": [
        {
          "output_type": "execute_result",
          "data": {
            "text/plain": [
              "tensor([[3]], device='cuda:0')"
            ]
          },
          "metadata": {},
          "execution_count": 95
        }
      ],
      "source": [
        "prediction.argmax(dim=1, keepdim=True)"
      ]
    },
    {
      "cell_type": "markdown",
      "metadata": {
        "id": "1H1PZfquP9C0"
      },
      "source": [
        "Did it get it right?"
      ]
    },
    {
      "cell_type": "code",
      "execution_count": 96,
      "metadata": {
        "colab": {
          "base_uri": "https://localhost:8080/"
        },
        "id": "6WUBIUaxP9C0",
        "outputId": "f79ae781-0436-4335-9ec7-9e3e2fa92274"
      },
      "outputs": [
        {
          "output_type": "execute_result",
          "data": {
            "text/plain": [
              "3"
            ]
          },
          "metadata": {},
          "execution_count": 96
        }
      ],
      "source": [
        "y_10"
      ]
    },
    {
      "cell_type": "markdown",
      "metadata": {
        "id": "I8O7pADY2zgL"
      },
      "source": [
        "### Summary"
      ]
    },
    {
      "cell_type": "markdown",
      "metadata": {
        "id": "Yu5NNukp2zgL"
      },
      "source": [
        "MNIST is not only useful for its historical influence on Computer Vision, but it's also a great [benchmark](http://www.cs.toronto.edu/~serailhydra/publications/tbd-iiswc18.pdf) and debugging tool. Having trouble getting a fancy new machine learning architecture working? Check it against MNIST. If it can't learn on this dataset, chances are it won't learn on more complicated images and datasets."
      ]
    },
    {
      "cell_type": "markdown",
      "metadata": {
        "id": "lV4QiOtg2zgL"
      },
      "source": [
        "### Clear the Memory"
      ]
    },
    {
      "cell_type": "markdown",
      "metadata": {
        "id": "o3iQrnws2zgL"
      },
      "source": [
        "Before moving on, please execute the following cell to clear up the GPU memory. This is required to move on to the next notebook."
      ]
    },
    {
      "cell_type": "code",
      "execution_count": 97,
      "metadata": {
        "id": "JCvpuSx-2zgM",
        "colab": {
          "base_uri": "https://localhost:8080/"
        },
        "outputId": "eb9e07c9-b9a8-435e-a511-8fb23dc3d9d2"
      },
      "outputs": [
        {
          "output_type": "execute_result",
          "data": {
            "text/plain": [
              "{'status': 'ok', 'restart': True}"
            ]
          },
          "metadata": {},
          "execution_count": 97
        }
      ],
      "source": [
        "import IPython\n",
        "app = IPython.Application.instance()\n",
        "app.kernel.do_shutdown(True)"
      ]
    }
  ],
  "metadata": {
    "accelerator": "GPU",
    "colab": {
      "gpuType": "T4",
      "provenance": []
    },
    "kernelspec": {
      "display_name": "“introduction”",
      "language": "python",
      "name": "jupyter-notebook"
    },
    "language_info": {
      "codemirror_mode": {
        "name": "ipython",
        "version": 3
      },
      "file_extension": ".py",
      "mimetype": "text/x-python",
      "name": "python",
      "nbconvert_exporter": "python",
      "pygments_lexer": "ipython3",
      "version": "3.9.21"
    }
  },
  "nbformat": 4,
  "nbformat_minor": 0
}